{
 "cells": [
  {
   "cell_type": "code",
   "execution_count": 31,
   "metadata": {},
   "outputs": [
    {
     "name": "stdout",
     "output_type": "stream",
     "text": [
      "The autoreload extension is already loaded. To reload it, use:\n",
      "  %reload_ext autoreload\n"
     ]
    }
   ],
   "source": [
    "%matplotlib inline\n",
    "\n",
    "%load_ext autoreload\n",
    "%autoreload 2\n",
    "\n",
    "from matplotlib.gridspec import GridSpec\n",
    "import matplotlib.pyplot as plt\n",
    "import matplotlib\n",
    "from skimage.transform import resize\n",
    "from imageio import imread, imwrite\n",
    "import pandas as pd\n",
    "import glob\n",
    "import pickle\n",
    "import numpy as np\n",
    "import tensorflow as tf\n",
    "import keras\n",
    "\n",
    "from keras.models import Sequential\n",
    "from keras.layers import Dense\n",
    "\n",
    "from lib.utils import load_gtsrb\n",
    "\n",
    "import os\n",
    "os.environ[\"CUDA_DEVICE_ORDER\"] = \"PCI_BUS_ID\"\n",
    "os.environ[\"CUDA_VISIBLE_DEVICES\"] = \"0\"\n",
    "\n",
    "config = tf.ConfigProto()\n",
    "config.gpu_options.allow_growth = True\n",
    "sess = tf.Session(config=config)\n",
    "from keras.backend.tensorflow_backend import set_session\n",
    "set_session(sess)"
   ]
  },
  {
   "cell_type": "code",
   "execution_count": 2,
   "metadata": {},
   "outputs": [
    {
     "name": "stdout",
     "output_type": "stream",
     "text": [
      "Downloading data from https://s3.amazonaws.com/img-datasets/mnist.npz\n",
      "11493376/11490434 [==============================] - 2s 0us/step\n"
     ]
    }
   ],
   "source": [
    "from keras.datasets import mnist\n",
    "(X_train, y_train), (X_test, y_test) = mnist.load_data()\n",
    "X_train = X_train[:, :, :, np.newaxis] / 255.\n",
    "X_test = X_test[:, :, :, np.newaxis] / 255.\n",
    "y_train = y_train[:, np.newaxis]\n",
    "y_test = y_test[:, np.newaxis]\n",
    "from sklearn.model_selection import train_test_split\n",
    "X_train, X_val, y_train, y_val = train_test_split(\n",
    "    X_train, y_train, test_size=0.1)"
   ]
  },
  {
   "cell_type": "code",
   "execution_count": 3,
   "metadata": {
    "scrolled": true
   },
   "outputs": [],
   "source": [
    "from image_sim_models import SiameseNetwork\n",
    "\n",
    "name = \"sn_v1\"\n",
    "sn = SiameseNetwork(name, [28, 28, 1], 100, \n",
    "                    learning_rate=1e-4, reg=0, \n",
    "                    load_model=True, \n",
    "                    save_path=\"model/\" + name + \".h5\")\n",
    "# data = (X_train, y_train, X_val, y_val)\n",
    "# sn.train_model(sess, data, dataaug=False, n_epoch=10, batch_size=128)"
   ]
  },
  {
   "cell_type": "code",
   "execution_count": 4,
   "metadata": {},
   "outputs": [
    {
     "data": {
      "text/plain": [
       "(array([0.57563984, 0.4750827 , 0.59330618, ..., 0.4234283 , 0.63484615,\n",
       "        0.54132634]),\n",
       " 0.5154948548607107,\n",
       " 0.5799736886083147,\n",
       " 0.2014518481731415)"
      ]
     },
     "execution_count": 4,
     "metadata": {},
     "output_type": "execute_result"
    }
   ],
   "source": [
    "sn.eval_model(sess, (X_test, y_test), batch_size=128)"
   ]
  },
  {
   "cell_type": "code",
   "execution_count": 17,
   "metadata": {},
   "outputs": [],
   "source": [
    "X_test_embed = sn.get_embed(sess, X_test)\n",
    "X_train_embed = sn.get_embed(sess, X_train)\n",
    "X_val_embed = sn.get_embed(sess, X_val)"
   ]
  },
  {
   "cell_type": "code",
   "execution_count": 6,
   "metadata": {},
   "outputs": [],
   "source": [
    "i = 5\n",
    "dist = np.sum((X_test_embed[i] - X_test_embed)**2, -1)\n",
    "dist_same = dist[np.where(y_test == y_test[i])[0]] \n",
    "dist_diff = dist[np.where(y_test != y_test[i])[0]] "
   ]
  },
  {
   "cell_type": "code",
   "execution_count": 12,
   "metadata": {},
   "outputs": [
    {
     "name": "stdout",
     "output_type": "stream",
     "text": [
      "Average distance from samples of same class:  0.1901354734687922\n",
      "Average distance from samples of diff class:  0.3121024205663281\n",
      "0.6925110132158591\n",
      "0.9010716300056402\n"
     ]
    }
   ],
   "source": [
    "thres = 0.25\n",
    "print('Average distance from samples of same class: ', np.mean(dist_same))\n",
    "print('Average distance from samples of diff class: ', np.mean(dist_diff))\n",
    "print(np.mean(dist_same < thres))\n",
    "print(np.mean(dist_diff >= thres))"
   ]
  },
  {
   "cell_type": "markdown",
   "metadata": {},
   "source": [
    "Do kNN with different k's, calculate accuracy on test set"
   ]
  },
  {
   "cell_type": "code",
   "execution_count": 13,
   "metadata": {},
   "outputs": [
    {
     "name": "stdout",
     "output_type": "stream",
     "text": [
      "0.9566\n"
     ]
    }
   ],
   "source": [
    "k = 5\n",
    "\n",
    "n_correct = 0\n",
    "for i, x in enumerate(X_test_embed):\n",
    "    dist = np.sum((x - X_train_embed)**2, -1)\n",
    "    ind = np.argsort(dist)\n",
    "    y = np.argmax(np.bincount(y_train[ind][:k].flatten()))\n",
    "    if y == y_test[i]:\n",
    "        n_correct += 1\n",
    "print(n_correct / len(y_test))"
   ]
  },
  {
   "cell_type": "code",
   "execution_count": 14,
   "metadata": {},
   "outputs": [
    {
     "name": "stdout",
     "output_type": "stream",
     "text": [
      "0.9553\n"
     ]
    }
   ],
   "source": [
    "k = 10\n",
    "\n",
    "n_correct = 0\n",
    "for i, x in enumerate(X_test_embed):\n",
    "    dist = np.sum((x - X_train_embed)**2, -1)\n",
    "    ind = np.argsort(dist)\n",
    "    y = np.argmax(np.bincount(y_train[ind][:k].flatten()))\n",
    "    if y == y_test[i]:\n",
    "        n_correct += 1\n",
    "print(n_correct / len(y_test))"
   ]
  },
  {
   "cell_type": "markdown",
   "metadata": {},
   "source": [
    "Find `size` nearest neighbors to each samples in order"
   ]
  },
  {
   "cell_type": "code",
   "execution_count": null,
   "metadata": {},
   "outputs": [],
   "source": [
    "size = 200\n",
    "\n",
    "nn_test = np.zeros((X_test.shape[0], size))\n",
    "for i, x in enumerate(X_test_embed):\n",
    "    dist = np.sum((x - X_train_embed)**2, -1)\n",
    "    ind = np.argsort(dist)\n",
    "    nn_test[i] = y_train[ind][:size].flatten()\n",
    "    \n",
    "nn_val = np.zeros((X_val.shape[0], size))\n",
    "for i, x in enumerate(X_val_embed):\n",
    "    dist = np.sum((x - X_train_embed)**2, -1)\n",
    "    ind = np.argsort(dist)\n",
    "    nn_val[i] = y_train[ind][:size].flatten()\n",
    "    \n",
    "# For NN of train set, we exclude itself\n",
    "nn_train = np.zeros((X_train.shape[0], size))\n",
    "for i, x in enumerate(X_train_embed):\n",
    "    dist = np.sum((x - X_train_embed)**2, -1)\n",
    "    ind = np.argsort(dist)\n",
    "    nn_train[i] = y_train[ind][1:size+1].flatten()"
   ]
  },
  {
   "cell_type": "code",
   "execution_count": 23,
   "metadata": {},
   "outputs": [],
   "source": [
    "pickle.dump([nn_train, nn_test, nn_val], open('nn_{}.pkl'.format(size), 'wb'))"
   ]
  },
  {
   "cell_type": "code",
   "execution_count": 29,
   "metadata": {},
   "outputs": [
    {
     "name": "stdout",
     "output_type": "stream",
     "text": [
      "0.9212\n"
     ]
    }
   ],
   "source": [
    "# Accuracy using 200-NN\n",
    "n_correct = 0\n",
    "for i, n in enumerate(nn_test):\n",
    "    y = np.argmax(np.bincount(n.astype(np.int32)))\n",
    "    if y == y_test[i]:\n",
    "        n_correct += 1\n",
    "print(n_correct / len(y_test))"
   ]
  },
  {
   "cell_type": "markdown",
   "metadata": {},
   "source": [
    "Try training a network to assign weights to each of the neighbors and outputs weighted average (which is not quite the correct way)."
   ]
  },
  {
   "cell_type": "code",
   "execution_count": 40,
   "metadata": {
    "scrolled": true
   },
   "outputs": [
    {
     "name": "stdout",
     "output_type": "stream",
     "text": [
      "Train on 54000 samples, validate on 10000 samples\n",
      "Epoch 1/30\n",
      "54000/54000 [==============================] - 1s 26us/step - loss: 6.1691 - acc: 0.4283 - val_loss: 3.7771 - val_acc: 0.4801\n",
      "Epoch 2/30\n",
      "54000/54000 [==============================] - 1s 22us/step - loss: 3.3171 - acc: 0.4853 - val_loss: 2.8768 - val_acc: 0.5014\n",
      "Epoch 3/30\n",
      "54000/54000 [==============================] - 1s 23us/step - loss: 2.3718 - acc: 0.5270 - val_loss: 2.0259 - val_acc: 0.5686\n",
      "Epoch 4/30\n",
      "54000/54000 [==============================] - 1s 23us/step - loss: 1.6338 - acc: 0.5841 - val_loss: 1.4304 - val_acc: 0.6333\n",
      "Epoch 5/30\n",
      "54000/54000 [==============================] - 1s 23us/step - loss: 1.1064 - acc: 0.6626 - val_loss: 1.0434 - val_acc: 0.6993\n",
      "Epoch 6/30\n",
      "54000/54000 [==============================] - 1s 23us/step - loss: 0.7881 - acc: 0.7416 - val_loss: 0.8101 - val_acc: 0.7827\n",
      "Epoch 7/30\n",
      "54000/54000 [==============================] - 1s 23us/step - loss: 0.6187 - acc: 0.8127 - val_loss: 0.6982 - val_acc: 0.8430\n",
      "Epoch 8/30\n",
      "54000/54000 [==============================] - 1s 23us/step - loss: 0.5385 - acc: 0.8617 - val_loss: 0.6518 - val_acc: 0.8771\n",
      "Epoch 9/30\n",
      "54000/54000 [==============================] - 1s 23us/step - loss: 0.5074 - acc: 0.8861 - val_loss: 0.6422 - val_acc: 0.8908\n",
      "Epoch 10/30\n",
      "54000/54000 [==============================] - 1s 23us/step - loss: 0.4927 - acc: 0.8925 - val_loss: 0.6425 - val_acc: 0.8952\n",
      "Epoch 11/30\n",
      "54000/54000 [==============================] - 1s 23us/step - loss: 0.4835 - acc: 0.9011 - val_loss: 0.6288 - val_acc: 0.8994\n",
      "Epoch 12/30\n",
      "54000/54000 [==============================] - 1s 23us/step - loss: 0.4929 - acc: 0.8915 - val_loss: 0.7206 - val_acc: 0.7767\n",
      "Epoch 13/30\n",
      "54000/54000 [==============================] - 1s 23us/step - loss: 0.4834 - acc: 0.8993 - val_loss: 0.6320 - val_acc: 0.9015\n",
      "Epoch 14/30\n",
      "54000/54000 [==============================] - 1s 23us/step - loss: 0.4867 - acc: 0.8976 - val_loss: 0.6320 - val_acc: 0.9004\n",
      "Epoch 15/30\n",
      "54000/54000 [==============================] - 1s 23us/step - loss: 0.4872 - acc: 0.8978 - val_loss: 0.6399 - val_acc: 0.8977\n",
      "Epoch 16/30\n",
      "54000/54000 [==============================] - 1s 22us/step - loss: 0.4850 - acc: 0.8993 - val_loss: 0.6486 - val_acc: 0.8985\n",
      "Epoch 17/30\n",
      "54000/54000 [==============================] - 1s 23us/step - loss: 0.4835 - acc: 0.9001 - val_loss: 0.6449 - val_acc: 0.9001\n",
      "Epoch 18/30\n",
      "54000/54000 [==============================] - 1s 23us/step - loss: 0.4909 - acc: 0.8941 - val_loss: 0.6333 - val_acc: 0.9008\n",
      "Epoch 19/30\n",
      "54000/54000 [==============================] - 1s 24us/step - loss: 0.4867 - acc: 0.8977 - val_loss: 0.7048 - val_acc: 0.8235\n",
      "Epoch 20/30\n",
      "54000/54000 [==============================] - 1s 23us/step - loss: 0.4860 - acc: 0.8978 - val_loss: 0.6334 - val_acc: 0.9020\n",
      "Epoch 21/30\n",
      "54000/54000 [==============================] - 1s 23us/step - loss: 0.4841 - acc: 0.9002 - val_loss: 0.7212 - val_acc: 0.7816\n",
      "Epoch 22/30\n",
      "54000/54000 [==============================] - 1s 23us/step - loss: 0.4932 - acc: 0.8897 - val_loss: 0.6533 - val_acc: 0.8949\n",
      "Epoch 23/30\n",
      "54000/54000 [==============================] - 1s 23us/step - loss: 0.4822 - acc: 0.9013 - val_loss: 0.6688 - val_acc: 0.8828\n",
      "Epoch 24/30\n",
      "54000/54000 [==============================] - 1s 23us/step - loss: 0.4870 - acc: 0.8956 - val_loss: 0.6330 - val_acc: 0.9023\n",
      "Epoch 25/30\n",
      "54000/54000 [==============================] - 1s 24us/step - loss: 0.4844 - acc: 0.8985 - val_loss: 0.6365 - val_acc: 0.9019\n",
      "Epoch 26/30\n",
      "54000/54000 [==============================] - 1s 23us/step - loss: 0.4844 - acc: 0.8989 - val_loss: 0.6802 - val_acc: 0.8756\n",
      "Epoch 27/30\n",
      "54000/54000 [==============================] - 1s 23us/step - loss: 0.4894 - acc: 0.8935 - val_loss: 0.6390 - val_acc: 0.9020\n",
      "Epoch 28/30\n",
      "54000/54000 [==============================] - 1s 22us/step - loss: 0.4864 - acc: 0.8988 - val_loss: 0.6422 - val_acc: 0.9014\n",
      "Epoch 29/30\n",
      "54000/54000 [==============================] - 1s 23us/step - loss: 0.4856 - acc: 0.8990 - val_loss: 0.6368 - val_acc: 0.9023\n",
      "Epoch 30/30\n",
      "54000/54000 [==============================] - 1s 23us/step - loss: 0.4867 - acc: 0.8946 - val_loss: 0.6459 - val_acc: 0.8971\n"
     ]
    },
    {
     "data": {
      "text/plain": [
       "<keras.callbacks.History at 0x7f734441ecc0>"
      ]
     },
     "execution_count": 40,
     "metadata": {},
     "output_type": "execute_result"
    }
   ],
   "source": [
    "model = Sequential()\n",
    "model.add(Dense(1, activation=None))\n",
    "model.compile(loss=keras.losses.mean_squared_error,\n",
    "              optimizer=keras.optimizers.Adam(lr=1e-3),\n",
    "              metrics=['accuracy'])\n",
    "model.fit(nn_train, y_train,\n",
    "          batch_size=128,\n",
    "          epochs=30,\n",
    "          verbose=1,\n",
    "          validation_data=(nn_test, y_test))"
   ]
  },
  {
   "cell_type": "code",
   "execution_count": 41,
   "metadata": {},
   "outputs": [
    {
     "data": {
      "text/plain": [
       "[array([[ 3.92268747e-01],\n",
       "        [ 1.69600517e-01],\n",
       "        [ 1.18026845e-01],\n",
       "        [ 1.16576776e-01],\n",
       "        [ 5.30240387e-02],\n",
       "        [ 6.43926486e-02],\n",
       "        [ 3.69208492e-02],\n",
       "        [ 3.52639779e-02],\n",
       "        [ 1.10596260e-02],\n",
       "        [ 1.86302550e-02],\n",
       "        [ 1.89090166e-02],\n",
       "        [ 1.27966767e-02],\n",
       "        [ 2.29013022e-02],\n",
       "        [ 9.50070377e-03],\n",
       "        [ 1.75989754e-02],\n",
       "        [ 1.16670411e-02],\n",
       "        [-8.45692266e-05],\n",
       "        [ 5.15874662e-03],\n",
       "        [ 6.45573810e-03],\n",
       "        [ 2.87777744e-03],\n",
       "        [ 1.50318397e-02],\n",
       "        [ 6.19285181e-03],\n",
       "        [ 9.49761178e-03],\n",
       "        [ 4.25699260e-03],\n",
       "        [ 2.76928628e-03],\n",
       "        [-5.90716721e-03],\n",
       "        [ 5.89188328e-03],\n",
       "        [ 4.71845455e-03],\n",
       "        [ 6.78645913e-03],\n",
       "        [ 1.74808130e-03],\n",
       "        [ 9.55132116e-03],\n",
       "        [-1.56316552e-02],\n",
       "        [-5.60824107e-03],\n",
       "        [-1.03784231e-02],\n",
       "        [-4.83850343e-03],\n",
       "        [-3.49694095e-03],\n",
       "        [ 3.29340412e-03],\n",
       "        [-5.17124496e-03],\n",
       "        [ 7.62165617e-03],\n",
       "        [-5.93743753e-03],\n",
       "        [-3.08931596e-03],\n",
       "        [-8.78353696e-03],\n",
       "        [-1.12735815e-02],\n",
       "        [-9.24625807e-03],\n",
       "        [-2.96859629e-03],\n",
       "        [ 1.07842975e-03],\n",
       "        [ 7.48677133e-03],\n",
       "        [-1.28520024e-03],\n",
       "        [ 1.30116357e-03],\n",
       "        [-2.87069520e-03],\n",
       "        [-1.23602878e-02],\n",
       "        [-5.73666207e-03],\n",
       "        [-9.23658162e-03],\n",
       "        [-3.01402621e-03],\n",
       "        [-7.70729315e-03],\n",
       "        [-8.56025424e-03],\n",
       "        [-4.98930598e-03],\n",
       "        [-3.45592340e-03],\n",
       "        [ 1.03518914e-03],\n",
       "        [-2.18644226e-03],\n",
       "        [-5.50052617e-03],\n",
       "        [-2.22191657e-03],\n",
       "        [-9.17919353e-03],\n",
       "        [ 2.38932273e-03],\n",
       "        [-5.33963367e-03],\n",
       "        [-4.47658543e-03],\n",
       "        [ 7.19910674e-03],\n",
       "        [-7.11193075e-03],\n",
       "        [-1.25279577e-04],\n",
       "        [-3.03445361e-03],\n",
       "        [-3.58469842e-04],\n",
       "        [-8.68639909e-04],\n",
       "        [-2.41392921e-03],\n",
       "        [-6.13151235e-04],\n",
       "        [ 8.21138918e-03],\n",
       "        [-4.65223426e-03],\n",
       "        [ 8.96175741e-04],\n",
       "        [ 3.50879133e-03],\n",
       "        [ 1.34935370e-03],\n",
       "        [ 5.23692789e-03],\n",
       "        [ 8.39503109e-03],\n",
       "        [-9.65999905e-04],\n",
       "        [-2.13217270e-03],\n",
       "        [ 1.78478513e-04],\n",
       "        [ 2.40526671e-04],\n",
       "        [-2.33985810e-03],\n",
       "        [-4.89149196e-03],\n",
       "        [-1.07357290e-03],\n",
       "        [-1.40617299e-03],\n",
       "        [ 8.10234051e-04],\n",
       "        [ 4.37905255e-04],\n",
       "        [-7.02143367e-03],\n",
       "        [-5.71484817e-03],\n",
       "        [ 9.44450847e-04],\n",
       "        [ 5.03708282e-03],\n",
       "        [-4.15527914e-03],\n",
       "        [ 1.47023425e-03],\n",
       "        [-3.91872739e-03],\n",
       "        [-3.62433930e-05],\n",
       "        [-6.93156384e-03],\n",
       "        [ 1.47293136e-03],\n",
       "        [ 4.85284906e-03],\n",
       "        [-3.34034581e-03],\n",
       "        [-1.64561952e-03],\n",
       "        [-1.75496726e-03],\n",
       "        [-1.63800345e-04],\n",
       "        [-7.74800545e-04],\n",
       "        [-4.33816202e-03],\n",
       "        [-4.73966170e-03],\n",
       "        [-7.64079159e-03],\n",
       "        [-1.60807476e-03],\n",
       "        [-9.36168944e-04],\n",
       "        [ 5.56400931e-03],\n",
       "        [ 1.46652176e-03],\n",
       "        [ 3.23659251e-03],\n",
       "        [-8.58623441e-03],\n",
       "        [-2.28337990e-03],\n",
       "        [ 6.90068584e-04],\n",
       "        [-1.04623819e-02],\n",
       "        [ 4.78032744e-03],\n",
       "        [-1.63528346e-03],\n",
       "        [-4.61604306e-03],\n",
       "        [ 1.42133227e-04],\n",
       "        [ 2.44932156e-03],\n",
       "        [-7.40368804e-03],\n",
       "        [-1.30687573e-03],\n",
       "        [-5.00182156e-03],\n",
       "        [ 1.70430075e-03],\n",
       "        [-4.09143837e-03],\n",
       "        [-3.67828924e-03],\n",
       "        [-3.56263923e-03],\n",
       "        [-5.85675426e-03],\n",
       "        [-2.45052995e-03],\n",
       "        [-7.33364548e-04],\n",
       "        [-2.47269240e-03],\n",
       "        [-7.28185172e-04],\n",
       "        [-9.88834770e-04],\n",
       "        [-1.37774681e-03],\n",
       "        [-4.42549121e-03],\n",
       "        [ 3.70412180e-03],\n",
       "        [-1.14982156e-03],\n",
       "        [-2.68580788e-03],\n",
       "        [ 1.26803503e-03],\n",
       "        [-1.57791760e-03],\n",
       "        [-2.50141928e-03],\n",
       "        [-2.13552639e-03],\n",
       "        [-1.03999395e-03],\n",
       "        [ 1.97879714e-03],\n",
       "        [-4.09613736e-03],\n",
       "        [-8.53234204e-04],\n",
       "        [-4.25455766e-03],\n",
       "        [-2.08381470e-03],\n",
       "        [-3.85872787e-04],\n",
       "        [ 1.51199009e-03],\n",
       "        [-2.64471513e-03],\n",
       "        [ 2.28974689e-03],\n",
       "        [-2.90663214e-04],\n",
       "        [ 4.19524126e-03],\n",
       "        [-4.87731595e-04],\n",
       "        [ 5.61904954e-03],\n",
       "        [ 3.91906966e-03],\n",
       "        [-2.26351869e-04],\n",
       "        [ 2.01104186e-03],\n",
       "        [-5.41596033e-04],\n",
       "        [-4.18288494e-03],\n",
       "        [ 1.67584818e-04],\n",
       "        [-5.85815310e-03],\n",
       "        [ 2.39084614e-03],\n",
       "        [-2.22124392e-03],\n",
       "        [-2.35099433e-04],\n",
       "        [ 6.99457433e-03],\n",
       "        [-3.81093984e-03],\n",
       "        [-2.81514367e-04],\n",
       "        [-5.91506204e-03],\n",
       "        [-8.13402236e-04],\n",
       "        [-7.16000563e-04],\n",
       "        [-3.11741093e-03],\n",
       "        [ 4.58905823e-04],\n",
       "        [ 3.30496300e-03],\n",
       "        [ 9.25888889e-04],\n",
       "        [ 2.08805385e-03],\n",
       "        [ 7.68614234e-04],\n",
       "        [ 2.38924311e-03],\n",
       "        [ 4.22058953e-03],\n",
       "        [-2.17279908e-03],\n",
       "        [-8.42049718e-04],\n",
       "        [ 4.99140646e-04],\n",
       "        [ 3.41654872e-03],\n",
       "        [-8.15129970e-05],\n",
       "        [ 2.86240596e-03],\n",
       "        [ 4.39010141e-03],\n",
       "        [ 4.83943429e-03],\n",
       "        [-3.07013816e-03],\n",
       "        [ 2.38370360e-03],\n",
       "        [ 1.07023027e-03],\n",
       "        [ 2.74866098e-03],\n",
       "        [ 1.58486073e-03],\n",
       "        [ 2.53469008e-03],\n",
       "        [-2.58459593e-04],\n",
       "        [-7.09111919e-04]], dtype=float32), array([0.08256678], dtype=float32)]"
      ]
     },
     "execution_count": 41,
     "metadata": {},
     "output_type": "execute_result"
    }
   ],
   "source": [
    "model.layers[0].get_weights()"
   ]
  },
  {
   "cell_type": "markdown",
   "metadata": {},
   "source": [
    "Train a network to try to recognize the digit based on patterns of its neighbors (which is also not quite correct)."
   ]
  },
  {
   "cell_type": "code",
   "execution_count": 42,
   "metadata": {
    "scrolled": true
   },
   "outputs": [
    {
     "name": "stdout",
     "output_type": "stream",
     "text": [
      "Train on 54000 samples, validate on 10000 samples\n",
      "Epoch 1/30\n",
      "54000/54000 [==============================] - 2s 41us/step - loss: 1.6449 - acc: 0.4899 - val_loss: 1.0364 - val_acc: 0.6759\n",
      "Epoch 2/30\n",
      "54000/54000 [==============================] - 2s 35us/step - loss: 0.9183 - acc: 0.6917 - val_loss: 0.8889 - val_acc: 0.7611\n",
      "Epoch 3/30\n",
      "54000/54000 [==============================] - 2s 35us/step - loss: 0.7736 - acc: 0.7518 - val_loss: 0.8052 - val_acc: 0.7621\n",
      "Epoch 4/30\n",
      "54000/54000 [==============================] - 2s 35us/step - loss: 0.6897 - acc: 0.7829 - val_loss: 0.7404 - val_acc: 0.7969\n",
      "Epoch 5/30\n",
      "54000/54000 [==============================] - 2s 35us/step - loss: 0.6303 - acc: 0.8076 - val_loss: 0.6459 - val_acc: 0.8358\n",
      "Epoch 6/30\n",
      "54000/54000 [==============================] - 2s 35us/step - loss: 0.5547 - acc: 0.8394 - val_loss: 0.6337 - val_acc: 0.8288\n",
      "Epoch 7/30\n",
      "54000/54000 [==============================] - 2s 35us/step - loss: 0.5233 - acc: 0.8504 - val_loss: 0.6256 - val_acc: 0.8300\n",
      "Epoch 8/30\n",
      "54000/54000 [==============================] - 2s 35us/step - loss: 0.4775 - acc: 0.8677 - val_loss: 0.5412 - val_acc: 0.8975\n",
      "Epoch 9/30\n",
      "54000/54000 [==============================] - 2s 35us/step - loss: 0.4289 - acc: 0.8849 - val_loss: 0.5032 - val_acc: 0.8855\n",
      "Epoch 10/30\n",
      "54000/54000 [==============================] - 2s 35us/step - loss: 0.4300 - acc: 0.8791 - val_loss: 0.5642 - val_acc: 0.8439\n",
      "Epoch 11/30\n",
      "54000/54000 [==============================] - 2s 36us/step - loss: 0.3700 - acc: 0.9029 - val_loss: 0.4850 - val_acc: 0.9054\n",
      "Epoch 12/30\n",
      "54000/54000 [==============================] - 2s 36us/step - loss: 0.3649 - acc: 0.9017 - val_loss: 0.4581 - val_acc: 0.9133\n",
      "Epoch 13/30\n",
      "54000/54000 [==============================] - 2s 35us/step - loss: 0.3085 - acc: 0.9266 - val_loss: 0.4167 - val_acc: 0.9269\n",
      "Epoch 14/30\n",
      "54000/54000 [==============================] - 2s 35us/step - loss: 0.3256 - acc: 0.9112 - val_loss: 0.4292 - val_acc: 0.9211\n",
      "Epoch 15/30\n",
      "54000/54000 [==============================] - 2s 36us/step - loss: 0.2622 - acc: 0.9425 - val_loss: 0.3889 - val_acc: 0.9275\n",
      "Epoch 16/30\n",
      "54000/54000 [==============================] - 2s 35us/step - loss: 0.3223 - acc: 0.9214 - val_loss: 0.9056 - val_acc: 0.6615\n",
      "Epoch 17/30\n",
      "54000/54000 [==============================] - 2s 35us/step - loss: 0.3013 - acc: 0.9191 - val_loss: 0.3823 - val_acc: 0.9314\n",
      "Epoch 18/30\n",
      "54000/54000 [==============================] - 2s 34us/step - loss: 0.2765 - acc: 0.9276 - val_loss: 0.3686 - val_acc: 0.9304\n",
      "Epoch 19/30\n",
      "54000/54000 [==============================] - 2s 35us/step - loss: 0.2646 - acc: 0.9340 - val_loss: 0.3739 - val_acc: 0.9318\n",
      "Epoch 20/30\n",
      "54000/54000 [==============================] - 2s 35us/step - loss: 0.2506 - acc: 0.9384 - val_loss: 0.3861 - val_acc: 0.9314\n",
      "Epoch 21/30\n",
      "54000/54000 [==============================] - 2s 35us/step - loss: 0.2375 - acc: 0.9454 - val_loss: 0.3741 - val_acc: 0.9310\n",
      "Epoch 22/30\n",
      "54000/54000 [==============================] - 2s 35us/step - loss: 0.3192 - acc: 0.9140 - val_loss: 0.4059 - val_acc: 0.9282\n",
      "Epoch 23/30\n",
      "54000/54000 [==============================] - 2s 35us/step - loss: 0.2267 - acc: 0.9488 - val_loss: 0.3699 - val_acc: 0.9332\n",
      "Epoch 24/30\n",
      "54000/54000 [==============================] - 2s 35us/step - loss: 0.2364 - acc: 0.9459 - val_loss: 0.3744 - val_acc: 0.9322\n",
      "Epoch 25/30\n",
      "54000/54000 [==============================] - 2s 36us/step - loss: 0.2855 - acc: 0.9220 - val_loss: 0.3788 - val_acc: 0.9329\n",
      "Epoch 26/30\n",
      "54000/54000 [==============================] - 2s 35us/step - loss: 0.2066 - acc: 0.9540 - val_loss: 0.3598 - val_acc: 0.9357\n",
      "Epoch 27/30\n",
      "54000/54000 [==============================] - 2s 36us/step - loss: 0.2494 - acc: 0.9341 - val_loss: 0.3711 - val_acc: 0.9347\n",
      "Epoch 28/30\n",
      "54000/54000 [==============================] - 2s 35us/step - loss: 0.2060 - acc: 0.9531 - val_loss: 0.3758 - val_acc: 0.9327\n",
      "Epoch 29/30\n",
      "54000/54000 [==============================] - 2s 36us/step - loss: 0.2692 - acc: 0.9266 - val_loss: 0.3728 - val_acc: 0.9327\n",
      "Epoch 30/30\n",
      "54000/54000 [==============================] - 2s 35us/step - loss: 0.1925 - acc: 0.9570 - val_loss: 0.3773 - val_acc: 0.9310\n"
     ]
    },
    {
     "data": {
      "text/plain": [
       "<keras.callbacks.History at 0x7f7390701b38>"
      ]
     },
     "execution_count": 42,
     "metadata": {},
     "output_type": "execute_result"
    }
   ],
   "source": [
    "model = Sequential()\n",
    "model.add(Dense(1024, activation='relu'))\n",
    "model.add(Dense(1024, activation='relu'))\n",
    "model.add(Dense(10, activation='softmax'))\n",
    "model.compile(loss=keras.losses.sparse_categorical_crossentropy,\n",
    "              optimizer=keras.optimizers.Adam(lr=1e-3),\n",
    "              metrics=['accuracy'])\n",
    "model.fit(nn_train, y_train,\n",
    "          batch_size=128,\n",
    "          epochs=30,\n",
    "          verbose=1,\n",
    "          validation_data=(nn_test, y_test))"
   ]
  },
  {
   "cell_type": "markdown",
   "metadata": {},
   "source": [
    "Train network directly on embedding"
   ]
  },
  {
   "cell_type": "code",
   "execution_count": 43,
   "metadata": {
    "scrolled": true
   },
   "outputs": [
    {
     "name": "stdout",
     "output_type": "stream",
     "text": [
      "Train on 54000 samples, validate on 10000 samples\n",
      "Epoch 1/30\n",
      "54000/54000 [==============================] - 2s 34us/step - loss: 0.7464 - acc: 0.8220 - val_loss: 0.3449 - val_acc: 0.8969\n",
      "Epoch 2/30\n",
      "54000/54000 [==============================] - 2s 30us/step - loss: 0.3279 - acc: 0.8988 - val_loss: 0.2837 - val_acc: 0.9132\n",
      "Epoch 3/30\n",
      "54000/54000 [==============================] - 2s 30us/step - loss: 0.2914 - acc: 0.9100 - val_loss: 0.2666 - val_acc: 0.9178\n",
      "Epoch 4/30\n",
      "54000/54000 [==============================] - 2s 30us/step - loss: 0.2695 - acc: 0.9166 - val_loss: 0.2476 - val_acc: 0.9242\n",
      "Epoch 5/30\n",
      "54000/54000 [==============================] - 2s 30us/step - loss: 0.2519 - acc: 0.9211 - val_loss: 0.2326 - val_acc: 0.9286\n",
      "Epoch 6/30\n",
      "54000/54000 [==============================] - 2s 29us/step - loss: 0.2357 - acc: 0.9276 - val_loss: 0.2207 - val_acc: 0.9333\n",
      "Epoch 7/30\n",
      "54000/54000 [==============================] - 2s 30us/step - loss: 0.2204 - acc: 0.9322 - val_loss: 0.2108 - val_acc: 0.9330\n",
      "Epoch 8/30\n",
      "54000/54000 [==============================] - 2s 30us/step - loss: 0.2054 - acc: 0.9366 - val_loss: 0.1935 - val_acc: 0.9403\n",
      "Epoch 9/30\n",
      "54000/54000 [==============================] - 2s 30us/step - loss: 0.1918 - acc: 0.9403 - val_loss: 0.1804 - val_acc: 0.9442\n",
      "Epoch 10/30\n",
      "54000/54000 [==============================] - 2s 30us/step - loss: 0.1788 - acc: 0.9450 - val_loss: 0.1681 - val_acc: 0.9469\n",
      "Epoch 11/30\n",
      "54000/54000 [==============================] - 2s 30us/step - loss: 0.1671 - acc: 0.9483 - val_loss: 0.1631 - val_acc: 0.9496\n",
      "Epoch 12/30\n",
      "54000/54000 [==============================] - 2s 30us/step - loss: 0.1568 - acc: 0.9515 - val_loss: 0.1570 - val_acc: 0.9506\n",
      "Epoch 13/30\n",
      "54000/54000 [==============================] - 2s 30us/step - loss: 0.1477 - acc: 0.9538 - val_loss: 0.1462 - val_acc: 0.9552\n",
      "Epoch 14/30\n",
      "54000/54000 [==============================] - 2s 30us/step - loss: 0.1398 - acc: 0.9572 - val_loss: 0.1438 - val_acc: 0.9550\n",
      "Epoch 15/30\n",
      "54000/54000 [==============================] - 2s 30us/step - loss: 0.1314 - acc: 0.9593 - val_loss: 0.1396 - val_acc: 0.9568\n",
      "Epoch 16/30\n",
      "54000/54000 [==============================] - 2s 30us/step - loss: 0.1250 - acc: 0.9619 - val_loss: 0.1328 - val_acc: 0.9599\n",
      "Epoch 17/30\n",
      "54000/54000 [==============================] - 2s 29us/step - loss: 0.1180 - acc: 0.9641 - val_loss: 0.1270 - val_acc: 0.9605\n",
      "Epoch 18/30\n",
      "54000/54000 [==============================] - 2s 30us/step - loss: 0.1135 - acc: 0.9653 - val_loss: 0.1211 - val_acc: 0.9639\n",
      "Epoch 19/30\n",
      "54000/54000 [==============================] - 2s 30us/step - loss: 0.1066 - acc: 0.9679 - val_loss: 0.1212 - val_acc: 0.9624\n",
      "Epoch 20/30\n",
      "54000/54000 [==============================] - 2s 30us/step - loss: 0.1018 - acc: 0.9689 - val_loss: 0.1173 - val_acc: 0.9642\n",
      "Epoch 21/30\n",
      "54000/54000 [==============================] - 2s 30us/step - loss: 0.0973 - acc: 0.9708 - val_loss: 0.1120 - val_acc: 0.9653\n",
      "Epoch 22/30\n",
      "54000/54000 [==============================] - 2s 30us/step - loss: 0.0927 - acc: 0.9718 - val_loss: 0.1153 - val_acc: 0.9630\n",
      "Epoch 23/30\n",
      "54000/54000 [==============================] - 2s 29us/step - loss: 0.0888 - acc: 0.9736 - val_loss: 0.1080 - val_acc: 0.9649\n",
      "Epoch 24/30\n",
      "54000/54000 [==============================] - 2s 30us/step - loss: 0.0853 - acc: 0.9751 - val_loss: 0.1089 - val_acc: 0.9655\n",
      "Epoch 25/30\n",
      "54000/54000 [==============================] - 2s 30us/step - loss: 0.0813 - acc: 0.9754 - val_loss: 0.1123 - val_acc: 0.9642\n",
      "Epoch 26/30\n",
      "54000/54000 [==============================] - 2s 30us/step - loss: 0.0777 - acc: 0.9773 - val_loss: 0.1073 - val_acc: 0.9652\n",
      "Epoch 27/30\n",
      "54000/54000 [==============================] - 2s 30us/step - loss: 0.0752 - acc: 0.9777 - val_loss: 0.1023 - val_acc: 0.9674\n",
      "Epoch 28/30\n",
      "54000/54000 [==============================] - 2s 30us/step - loss: 0.0713 - acc: 0.9791 - val_loss: 0.0980 - val_acc: 0.9677\n",
      "Epoch 29/30\n",
      "54000/54000 [==============================] - 2s 29us/step - loss: 0.0682 - acc: 0.9794 - val_loss: 0.0996 - val_acc: 0.9669\n",
      "Epoch 30/30\n",
      "54000/54000 [==============================] - 2s 30us/step - loss: 0.0654 - acc: 0.9807 - val_loss: 0.0957 - val_acc: 0.9702\n"
     ]
    },
    {
     "data": {
      "text/plain": [
       "<keras.callbacks.History at 0x7f73907c1a20>"
      ]
     },
     "execution_count": 43,
     "metadata": {},
     "output_type": "execute_result"
    }
   ],
   "source": [
    "model = Sequential()\n",
    "model.add(Dense(1024, activation='relu'))\n",
    "model.add(Dense(10, activation='softmax'))\n",
    "model.compile(loss=keras.losses.sparse_categorical_crossentropy,\n",
    "              optimizer=keras.optimizers.Adam(lr=1e-3),\n",
    "              metrics=['accuracy'])\n",
    "model.fit(X_train_embed, y_train,\n",
    "          batch_size=128,\n",
    "          epochs=30,\n",
    "          verbose=1,\n",
    "          validation_data=(X_test_embed, y_test))"
   ]
  },
  {
   "cell_type": "code",
   "execution_count": null,
   "metadata": {},
   "outputs": [],
   "source": []
  }
 ],
 "metadata": {
  "kernelspec": {
   "display_name": "Python 3",
   "language": "python",
   "name": "python3"
  },
  "language_info": {
   "codemirror_mode": {
    "name": "ipython",
    "version": 3
   },
   "file_extension": ".py",
   "mimetype": "text/x-python",
   "name": "python",
   "nbconvert_exporter": "python",
   "pygments_lexer": "ipython3",
   "version": "3.5.2"
  }
 },
 "nbformat": 4,
 "nbformat_minor": 2
}
